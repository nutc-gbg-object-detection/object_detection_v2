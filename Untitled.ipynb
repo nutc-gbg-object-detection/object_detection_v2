{
 "cells": [
  {
   "cell_type": "code",
   "execution_count": 1,
   "metadata": {},
   "outputs": [],
   "source": [
    "import random\n",
    "one=one_phone=two=two_phone=0\n",
    "def sampling(string,p,c):\n",
    "    global one,one_phone,two,two_phone\n",
    "    rand_len = len(str(string))\n",
    "    if(rand_len>9):\n",
    "        one = str(random.randint(0,9))\n",
    "        one_phone = str(random.randint(0,9))\n",
    "        two = str(random.randint(0,9))+str(random.randint(0,9))\n",
    "        two_phone = str(random.randint(0,9))+str(random.randint(0,9))\n",
    "    else:\n",
    "        one = str(random.randint(0,rand_len-1))\n",
    "        one_phone = str(random.randint(0,rand_len-1))\n",
    "        two = str(random.randint(0,rand_len-1))+str(random.randint(0,rand_len-1))\n",
    "        two_phone = str(random.randint(0,rand_len-1))+str(random.randint(0,rand_len-1))\n",
    "    if(len(str(string))<4):\n",
    "        #if(str(string) == 'nan' or str(string) == '0' or str(string) =='XX'):\n",
    "        return ''\n",
    "    else:\n",
    "        new = []\n",
    "        for s in string:\n",
    "            new.append(s)\n",
    "        for index,item in enumerate(p):\n",
    "            new[int(item)] = c[index]\n",
    "        return ''.join(new)\n",
    "# sampling('3343+分機',one,one_phone)\n",
    "# sampling('3343+分機',two,two_phone)"
   ]
  },
  {
   "cell_type": "code",
   "execution_count": 2,
   "metadata": {},
   "outputs": [],
   "source": [
    "from difflib import SequenceMatcher, get_close_matches\n",
    "import sys\n",
    "\n",
    "def search_myphton(myphone):\n",
    "#     phone = correct_lis;\n",
    "    phone = []\n",
    "    for index,row in df.iterrows():\n",
    "        phone.append(str(row['GET_TELEPHONE'])) #get telephone\n",
    "        phone.append(str(row['SEND_TELEPHONE'])) #send telephone\n",
    "    return_phone = []\n",
    "   \n",
    "    seq = SequenceMatcher(myphone)#a,b 帶入參數\n",
    "    match = get_close_matches(myphone,phone,n=3,cutoff=0.3)\n",
    "    if(len(match)>=1):\n",
    "        for m in match:\n",
    "            return_phone += [m]\n",
    "        return(return_phone)\n",
    "    else: \n",
    "        return(-1)"
   ]
  },
  {
   "cell_type": "code",
   "execution_count": 3,
   "metadata": {},
   "outputs": [],
   "source": [
    "def get_value():\n",
    "    global one,one_phone,two,two_phone\n",
    "    phone_dict = {}\n",
    "    for index,row in df.iterrows():\n",
    "        phone_dict['get_telephone'] = row['GET_TELEPHONE'] #get telephone\n",
    "        phone_dict['send_telephone'] = row['SEND_TELEPHONE'] #send telephone\n",
    "        correct_lis.append(phone_dict.copy()) #append data into list\n",
    "#         #========================start make random phone====================\n",
    "#         test_phone = {} \n",
    "        #==========================random get_telephone=========================\n",
    "#         test_phone[row['GET_TELEPHONE']] = search_myphton(sampling(row['GET_TELEPHONE'],str(one),str(one_phone))) \n",
    "#         test_phone[row['GET_TELEPHONE']] = search_myphton(sampling(row['GET_TELEPHONE'],str(two),str(two_phone)))\n",
    "#         #========================random send_telephone==========================\n",
    "#         test_phone[row['SEND_TELEPHONE']] = search_myphton(sampling(row['SEND_TELEPHONE'],str(one),str(one_phone)))\n",
    "#         test_phone[row['SEND_TELEPHONE']] = search_myphton(sampling(row['SEND_TELEPHONE'],str(two),str(two_phone)))\n",
    "#         test_lis.append(test_phone.copy())"
   ]
  },
  {
   "cell_type": "code",
   "execution_count": 5,
   "metadata": {},
   "outputs": [
    {
     "name": "stdout",
     "output_type": "stream",
     "text": [
      "1\n",
      "1\n",
      "1\n",
      "1\n",
      "1\n",
      "1\n",
      "1\n"
     ]
    }
   ],
   "source": [
    "import pandas as pd\n",
    "if __name__ =='__main__':\n",
    "    df = pd.read_excel('data/OP_Delivery_Requests.xlsx')\n",
    "    # print whole sheet data\n",
    "    df.head()\n",
    "    \n",
    "    correct_lis = []\n",
    "    test_lis = []\n",
    "    \n",
    "    get_value()\n",
    "    print(1)"
   ]
  },
  {
   "cell_type": "code",
   "execution_count": 15,
   "metadata": {},
   "outputs": [
    {
     "name": "stdout",
     "output_type": "stream",
     "text": [
      "{'02-35187600': ['02-35187600', '02-35187600', '02-35187600'], '0908336312': ['0908336312', '0918368326', '0988342361']}\n",
      "{'02-35187600': ['02-35187600', '02-35187600', '02-35187600'], '0908336312': ['0908336312', '0983718280', '0978963781']}\n",
      "{'02-35187600': ['02-35187600', '02-35187600', '02-35187600'], '0908336312': ['0908336312', '0986098236', '0983605219']}\n",
      "{'02-35187600': ['02-35187600', '02-35187600', '02-35187600'], '0908336312': ['0908336312', '0918368326', '0988342361']}\n",
      "{'02-35187600': ['02-35187600', '02-35187600', '02-35187600'], '0908336312': ['0908336312', '0983718280', '0978963781']}\n",
      "{'02-35187600': ['02-35187600', '02-35187600', '02-35187600'], '0908336312': ['0908336312', '0986098236', '0983605219']}\n",
      "{'02-35187600': ['02-35187600', '02-35187600', '02-35187600'], '0908336312': ['0908336312', '0918368326', '0988342361']}\n",
      "{'02-35187600': ['02-35187600', '02-35187600', '02-35187600'], '0908336312': ['0908336312', '0983718280', '0978963781']}\n",
      "{'02-35187600': ['02-35187600', '02-35187600', '02-35187600'], '0908336312': ['0908336312', '0986098236', '0983605219']}\n",
      "{'02-35187600': ['02-35187600', '02-35187600', '02-35187600'], '0908336312': ['0908336312', '0918368326', '0988342361']}\n",
      "{'02-35187600': ['02-35187600', '02-35187600', '02-35187600'], '0908336312': ['0908336312', '0983718280', '0978963781']}\n",
      "{'02-35187600': ['02-35187600', '02-35187600', '02-35187600'], '0908336312': ['0908336312', '0986098236', '0983605219']}\n",
      "{'02-35187600': ['02-35187600', '02-35187600', '02-35187600'], '0908336312': ['0908336312', '0918368326', '0988342361']}\n",
      "{'02-35187600': ['02-35187600', '02-35187600', '02-35187600'], '0908336312': ['0908336312', '0983718280', '0978963781']}\n",
      "{'02-35187600': ['02-35187600', '02-35187600', '02-35187600'], '0908336312': ['0908336312', '0986098236', '0983605219']}\n",
      "{'02-35187600': ['02-35187600', '02-35187600', '02-35187600'], '0908336312': ['0908336312', '0918368326', '0988342361']}\n",
      "{'02-35187600': ['02-35187600', '02-35187600', '02-35187600'], '0908336312': ['0908336312', '0983718280', '0978963781']}\n",
      "{'02-35187600': ['02-35187600', '02-35187600', '02-35187600'], '0908336312': ['0908336312', '0986098236', '0983605219']}\n",
      "{'02-35187600': ['02-35187600', '02-35187600', '02-35187600'], '0908336312': ['0908336312', '0918368326', '0988342361']}\n",
      "{'02-35187600': ['02-35187600', '02-35187600', '02-35187600'], '0908336312': ['0908336312', '0983718280', '0978963781']}\n",
      "{'02-35187600': ['02-35187600', '02-35187600', '02-35187600'], '0908336312': ['0908336312', '0986098236', '0983605219']}\n"
     ]
    }
   ],
   "source": [
    "global correct_lis\n",
    "# for index,row in df.iterrows():\n",
    "#     phone_dict = {}\n",
    "#     phone_dict['get_telephone'] = row['GET_TELEPHONE'] #get telephone\n",
    "#     phone_dict['send_telephone'] = row['SEND_TELEPHONE'] #send telephone\n",
    "#     correct_lis.append(phone_dict.copy()) #append data into list\n",
    "print(test_lis[0])\n",
    "print(test_lis[1])\n",
    "print(test_lis[2])\n",
    "\n",
    "# for index,row in enumerate(test_lis):\n",
    "    \n",
    "#     if(len(match)>=1):\n",
    "#         #print('+-----------------+')\n",
    "#         for m in match:\n",
    "#             #print('|    '+(m)+'   |')\n",
    "#             #print('+=================+')\n",
    "#             return_phone += [m]\n",
    "#     print(row)"
   ]
  },
  {
   "cell_type": "code",
   "execution_count": null,
   "metadata": {},
   "outputs": [],
   "source": []
  }
 ],
 "metadata": {
  "kernelspec": {
   "display_name": "Python 3",
   "language": "python",
   "name": "python3"
  },
  "language_info": {
   "codemirror_mode": {
    "name": "ipython",
    "version": 3
   },
   "file_extension": ".py",
   "mimetype": "text/x-python",
   "name": "python",
   "nbconvert_exporter": "python",
   "pygments_lexer": "ipython3",
   "version": "3.7.6"
  }
 },
 "nbformat": 4,
 "nbformat_minor": 4
}
